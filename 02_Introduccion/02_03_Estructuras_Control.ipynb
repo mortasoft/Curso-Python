{
 "metadata": {
  "language_info": {
   "codemirror_mode": {
    "name": "ipython",
    "version": 3
   },
   "file_extension": ".py",
   "mimetype": "text/x-python",
   "name": "python",
   "nbconvert_exporter": "python",
   "pygments_lexer": "ipython3",
   "version": "3.9.1-final"
  },
  "orig_nbformat": 2,
  "kernelspec": {
   "name": "python3",
   "display_name": "Python 3.9.1 64-bit",
   "metadata": {
    "interpreter": {
     "hash": "63fd5069d213b44bf678585dea6b12cceca9941eaf7f819626cde1f2670de90d"
    }
   }
  }
 },
 "nbformat": 4,
 "nbformat_minor": 2,
 "cells": [
  {
   "source": [
    "# Estructuras de Control de Flujo\n",
    "\n",
    "Una estructura de control, es un bloque de código que permite agrupar instrucciones de manera controlada. En este capítulo, hablaremos sobre dos estructuras de control:\n",
    "\n",
    "* Estructuras de control condicionales\n",
    "* Estructuras de control iterativas"
   ],
   "cell_type": "markdown",
   "metadata": {}
  },
  {
   "source": [
    "## Identación\n",
    "En un lenguaje informático, la identación es lo que la sangría al lenguaje humano escrito (a nivel formal). Así como para el lenguaje formal, cuando uno redacta una carta, debe respetar ciertas sangrías, los lenguajes informáticos, requieren una identación.\n",
    "\n",
    "No todos los lenguajes de programación, necesitan de una identación, aunque sí, se acostumbra utilizarla con el fin de otorgar mayor legibilidad al código fuente. \n",
    "En el caso de Python, la identación es obligatoria, ya que de ella, dependerá su estructura.\n",
    "\n",
    "> inicio de la estructura de control:\n",
    ">> expresiones"
   ],
   "cell_type": "markdown",
   "metadata": {}
  },
  {
   "source": [
    "## Estructras de control condicionales\n",
    "Las estructuras de control condicionales, son aquellas que nos permiten evaluar si una o más condiciones se cumplen, para decir qué acción vamos a ejecutar. La evaluación de condiciones,solo puede arrojar 1 de 2 resultados: verdadero o falso (True o False).\n",
    "\n",
    "En la vida diaria, actuamos de acuerdo a la evaluación de condiciones, de manera mucho más frecuente de lo que en realidad creemos: Si el semáforo está en verde, cruzar la calle. Si no, esperar a que el semáforo se ponga en verde. A veces, también evaluamos más de una condición para ejecutar una determinada acción: Si llega la factura de la luz y tengo dinero, pagar la boleta.\n",
    "\n",
    "Para describir la evaluación a realizar sobre una condición, se utilizan operadores relacionales (o de comparación):\n",
    "\n",
    "<table>\n",
    "<thead>\n",
    "<tr>\n",
    "<th>Símbolo</th>\n",
    "<th>Significado</th>\n",
    "<th>Ejemplo</th>\n",
    "<th>Resultado</th>\n",
    "</tr>\n",
    "</thead>\n",
    "<tbody>\n",
    "<tr>\n",
    "<td><code>==</code></td>\n",
    "<td>Igual que</td>\n",
    "<td><code>5 == 7</code></td>\n",
    "<td><code>False</code></td>\n",
    "</tr>\n",
    "<tr>\n",
    "<td><code>!=</code></td>\n",
    "<td>Distinto que</td>\n",
    "<td><code>rojo != verde</code></td>\n",
    "<td><code>True</code></td>\n",
    "</tr>\n",
    "<tr>\n",
    "<td><code>&lt;</code></td>\n",
    "<td>Menor que</td>\n",
    "<td><code>8 &lt; 12</code></td>\n",
    "<td><code>True</code></td>\n",
    "</tr>\n",
    "<tr>\n",
    "<td><code>&gt;</code></td>\n",
    "<td>Mayor que</td>\n",
    "<td><code>12 &gt; 7</code></td>\n",
    "<td><code>True</code></td>\n",
    "</tr>\n",
    "<tr>\n",
    "<td><code>&lt;=</code></td>\n",
    "<td>Menor o igual que</td>\n",
    "<td><code>12 &lt;= 12</code></td>\n",
    "<td><code>True</code></td>\n",
    "</tr>\n",
    "<tr>\n",
    "<td><code>&gt;=</code></td>\n",
    "<td>Mayor o igual que</td>\n",
    "<td><code>4 &gt;= 5</code></td>\n",
    "<td><code>False</code></td>\n",
    "</tr>\n",
    "</tbody>\n",
    "</table>\n",
    "\n",
    "Y para evaluar más de una condición simultáneamente, se utilizan operadores lógicos:\n",
    "\n",
    "<table>\n",
    "<thead>\n",
    "<tr>\n",
    "<th>Operador</th>\n",
    "<th>Ejemplo</th>\n",
    "<th>Explicación</th>\n",
    "<th>Resultado</th>\n",
    "</tr>\n",
    "</thead>\n",
    "<tbody>\n",
    "<tr>\n",
    "<td><code>and</code></td>\n",
    "<td><code>5 == 7 and 7 &lt; 12</code></td>\n",
    "<td><code>False and False</code></td>\n",
    "<td><code>False</code></td>\n",
    "</tr>\n",
    "<tr>\n",
    "<td><code>and</code></td>\n",
    "<td><code>9 &lt; 12 and 12 &gt; 7</code></td>\n",
    "<td><code>True and True</code></td>\n",
    "<td><code>True</code></td>\n",
    "</tr>\n",
    "<tr>\n",
    "<td><code>and</code></td>\n",
    "<td><code>9 &lt; 12 and 12 &gt; 15</code></td>\n",
    "<td><code>True and False</code></td>\n",
    "<td><code>False</code></td>\n",
    "</tr>\n",
    "<tr>\n",
    "<td><code>or</code></td>\n",
    "<td><code>12 == 12 or 15 &lt; 7</code></td>\n",
    "<td><code>True or False</code></td>\n",
    "<td><code>True</code></td>\n",
    "</tr>\n",
    "<tr>\n",
    "<td><code>or</code></td>\n",
    "<td><code>7 &gt; 5 or 9 &lt; 12</code></td>\n",
    "<td><code>True or True</code></td>\n",
    "<td><code>True</code></td>\n",
    "</tr>\n",
    "<tr>\n",
    "<td><code>xor</code></td>\n",
    "<td><code>4 == 4 xor 9 &gt; 3</code></td>\n",
    "<td><code>True o True</code></td>\n",
    "<td><code>False</code></td>\n",
    "</tr>\n",
    "<tr>\n",
    "<td><code>xor</code></td>\n",
    "<td><code>4 == 4 xor 9 &lt; 3</code></td>\n",
    "<td><code>True o False</code></td>\n",
    "<td><code>True</code></td>\n",
    "</tr>\n",
    "</tbody>\n",
    "</table>\n",
    "\n"
   ],
   "cell_type": "markdown",
   "metadata": {}
  },
  {
   "source": [
    "Las estructuras de control de flujo condicionales, se definen mediante el uso de tres palabras claves reservadas, del lenguaje: if (si), elif (sino, si) y else (sino).\n",
    "Veamos algunos ejemplos:\n",
    "\n",
    "1) Si semáforo esta en verde, cruzar la calle. Sino, esperar.\n",
    "\n",
    "if semaforo == verde: \n",
    "    print \"Cruzar la calle\"\n",
    "else: \n",
    "    print \"Esperar\"\n",
    "\n",
    "2) Si gasto hasta $100, pago con dinero en efectivo. Si no, si gasto más de $100 pero menos de $300, pago con tarjeta de débito. Si no, pago con tarjeta de crédito.\n",
    "\n",
    "if compra <= 100: \n",
    "    print \"Pago en efectivo\" \n",
    "elif compra > 100 and compra < 300: \n",
    "    print \"Pago con tarjeta de débito\" \n",
    "else: \n",
    "    print \"Pago con tarjeta de crédito\"\n",
    "\n",
    "3) Si la compra es mayor a $100, obtengo un descuento del 10%.\n",
    "\n",
    "importe_a_pagar = total_compra\n",
    "\n",
    "if total_compra > 100: \n",
    "    tasa_descuento = 10 \n",
    "    importe_descuento = total_compra * tasa_descuento / 100 \n",
    "    importe_a_pagar = total_compra – importe_descuento"
   ],
   "cell_type": "code",
   "metadata": {},
   "execution_count": null,
   "outputs": []
  },
  {
   "source": [
    "## Estructuras de control iterativas\n",
    "\n",
    "A diferencia de las estructuras de control condicionales, las iterativas (también llamadas cíclicas o bucles), nos permiten ejecutar un mismo código, de manera repetida, mientras se cumpla una condición.\n",
    "\n",
    "En Python se dispone de dos estructuras cíclicas:\n",
    "\n",
    "* El bucle while\n",
    "* El bucle for\n",
    "\n",
    "Las veremos en detalle a continuación."
   ],
   "cell_type": "markdown",
   "metadata": {}
  },
  {
   "source": [
    "### Bucle While\n",
    "Este bucle, se encarga de ejecutar una misma acción \"mientras que\" una determinada condición se cumpla. Ejemplo: Mientras que año sea menor o igual a 2012, imprimir la frase \"Informes del Año año\"."
   ],
   "cell_type": "markdown",
   "metadata": {}
  },
  {
   "cell_type": "code",
   "execution_count": 23,
   "metadata": {},
   "outputs": [
    {
     "output_type": "stream",
     "name": "stdout",
     "text": [
      "Informes del Año 2001\nInformes del Año 2002\nInformes del Año 2003\nInformes del Año 2004\nInformes del Año 2005\nInformes del Año 2006\nInformes del Año 2007\nInformes del Año 2008\nInformes del Año 2009\nInformes del Año 2010\nInformes del Año 2011\nInformes del Año 2012\n"
     ]
    }
   ],
   "source": [
    "anio = 2001 \n",
    "while anio <= 2012: \n",
    "    print(\"Informes del Año\", str(anio)) \n",
    "    anio += 1"
   ]
  },
  {
   "cell_type": "code",
   "execution_count": 26,
   "metadata": {},
   "outputs": [
    {
     "output_type": "stream",
     "name": "stdout",
     "text": [
      "Su nombre es: asdasda.\n"
     ]
    }
   ],
   "source": [
    "while True:\n",
    "    nombre = input(\"Indique su nombre: \")\n",
    "    if nombre:\n",
    "        print(\"Su nombre es: \" + nombre)\n",
    "        break"
   ]
  },
  {
   "source": [
    "El bucle anterior, incluye un condicional anidado que verifica si la variable nombre es verdadera (solo será verdadera si el usuario tipea un texto en pantalla cuando el nombre le es solicitado). Si es verdadera, el bucle para (break). Sino, seguirá ejecutándose hasta que el usuario, ingrese un texto en pantalla."
   ],
   "cell_type": "markdown",
   "metadata": {}
  },
  {
   "source": [
    "### Bucle For\n",
    "El bucle for, en Python, es aquel que nos permitirá iterar sobre una variable compleja, del tipo lista o tupla:"
   ],
   "cell_type": "markdown",
   "metadata": {}
  },
  {
   "cell_type": "code",
   "execution_count": 36,
   "metadata": {},
   "outputs": [
    {
     "output_type": "stream",
     "name": "stdout",
     "text": [
      "--------------------------------------------\nMaria\nAntonia\nMario\nDaniela\n--------------------------------------------\nrosa\nverde\nceleste\namarillo\n--------------------------------------------\nInformes del Año 2001\nInformes del Año 2002\nInformes del Año 2003\nInformes del Año 2004\nInformes del Año 2005\nInformes del Año 2006\nInformes del Año 2007\nInformes del Año 2008\nInformes del Año 2009\nInformes del Año 2010\nInformes del Año 2011\nInformes del Año 2012\n"
     ]
    }
   ],
   "source": [
    "#1) Por cada nombre en mi_lista, imprimir nombre\n",
    "print(\"--------------------------------------------\")\n",
    "mi_lista = ['Maria', 'Antonia', 'Mario', 'Daniela'] \n",
    "for nombre in mi_lista: \n",
    "    print(nombre)\n",
    "\n",
    "\n",
    "print(\"--------------------------------------------\")\n",
    "#2) Por cada color en mi_tupla, imprimir color:\n",
    "\n",
    "mi_tupla = ('rosa', 'verde', 'celeste', 'amarillo') \n",
    "for color in mi_tupla: \n",
    "    print(color)\n",
    "\n",
    "print(\"--------------------------------------------\")\n",
    "# 3) Por cada año en el rango 2001 a 2013, imprimir la frase \"Informes del Año año\":\n",
    "for anio in range(2001, 2013): \n",
    "    print(\"Informes del Año\", str(anio))"
   ]
  },
  {
   "cell_type": "code",
   "execution_count": null,
   "metadata": {},
   "outputs": [],
   "source": []
  }
 ]
}