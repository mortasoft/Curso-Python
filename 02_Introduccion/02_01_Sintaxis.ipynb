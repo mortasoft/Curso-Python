{
 "metadata": {
  "language_info": {
   "codemirror_mode": {
    "name": "ipython",
    "version": 3
   },
   "file_extension": ".py",
   "mimetype": "text/x-python",
   "name": "python",
   "nbconvert_exporter": "python",
   "pygments_lexer": "ipython3",
   "version": "3.9.0-final"
  },
  "orig_nbformat": 2,
  "kernelspec": {
   "name": "python39064bit967d1c1033594960bd534a08fee26aa9",
   "display_name": "Python 3.9.0 64-bit",
   "language": "python"
  }
 },
 "nbformat": 4,
 "nbformat_minor": 2,
 "cells": [
  {
   "source": [
    "# Sintaxis Basica\n",
    "\n",
    "La sintaxis es ....."
   ],
   "cell_type": "markdown",
   "metadata": {}
  },
  {
   "source": [
    "# Variables\n",
    "\n",
    "Una variable es un espacio para almacenar datos modificables, en la memoria de un ordenador. En Python, una variable se define con la sintaxis:\n",
    "\n",
    ">> nombre_de_la_variable = valor_de_la_variable\n",
    "\n",
    "Cada variable, tiene un nombre y un valor, el cual define a la vez, el tipo de datos de la variable.\n",
    "\n",
    "Para las variables, utilizar nombres descriptivos y en minúsculas. Para nombres compuestos, separar las palabras por guiones bajos. Antes y después del signo =, debe haber uno (y solo un) espacio en blanco. Ejemplo: "
   ],
   "cell_type": "markdown",
   "metadata": {}
  },
  {
   "cell_type": "code",
   "execution_count": 4,
   "metadata": {},
   "outputs": [],
   "source": [
    "mi_variable = 1000\n",
    "mi_nombre = \"Luis\""
   ]
  },
  {
   "source": [
    "Existe un tipo de variable, denominada constante, la cual se utiliza para definir valores fijos, que no requieran ser modificados."
   ],
   "cell_type": "markdown",
   "metadata": {}
  },
  {
   "cell_type": "code",
   "execution_count": 5,
   "metadata": {},
   "outputs": [],
   "source": [
    "MI_CONSTANTE = 3.14"
   ]
  },
  {
   "source": [
    "Para imprimir un valor en pantalla, en Python, se utiliza la palabra clave print:"
   ],
   "cell_type": "markdown",
   "metadata": {}
  },
  {
   "cell_type": "code",
   "execution_count": 8,
   "metadata": {},
   "outputs": [
    {
     "output_type": "stream",
     "name": "stdout",
     "text": [
      "15\n"
     ]
    }
   ],
   "source": [
    "mi_variable = 15\n",
    "print(mi_variable)"
   ]
  },
  {
   "source": [
    "# Tipos de Datos\n",
    "\n",
    "Una variable (o constante) puede contener valores de diversos tipos. Entre ellos:"
   ],
   "cell_type": "markdown",
   "metadata": {}
  },
  {
   "source": [
    "## String\n",
    "Cadena de texto (string):"
   ],
   "cell_type": "markdown",
   "metadata": {}
  },
  {
   "cell_type": "code",
   "execution_count": null,
   "metadata": {},
   "outputs": [],
   "source": [
    "mi_cadena = \"Hola Mundo!\"\n",
    "\n",
    "mi_cadena_multilinea = \"\"\"\n",
    "Esta es una cadena\n",
    "de varias lineas\n",
    "\"\"\""
   ]
  },
  {
   "source": [
    "## Numero entero (int)"
   ],
   "cell_type": "markdown",
   "metadata": {}
  },
  {
   "cell_type": "code",
   "execution_count": null,
   "metadata": {},
   "outputs": [],
   "source": [
    "edad = 32"
   ]
  },
  {
   "source": [
    "## Numero Real"
   ],
   "cell_type": "markdown",
   "metadata": {}
  },
  {
   "cell_type": "code",
   "execution_count": null,
   "metadata": {},
   "outputs": [],
   "source": [
    "precio = 7435.28"
   ]
  },
  {
   "source": [
    "## Booleano (verdadero / Falso):"
   ],
   "cell_type": "markdown",
   "metadata": {}
  },
  {
   "cell_type": "code",
   "execution_count": 9,
   "metadata": {},
   "outputs": [],
   "source": [
    "verdadero = True\n",
    "falso = False"
   ]
  },
  {
   "source": [
    "# Operadores Aritmeticos\n",
    "Entre los operadores aritméticos que Python utiliza, podemos encontrar los siguientes:"
   ],
   "cell_type": "markdown",
   "metadata": {}
  },
  {
   "source": [
    "<table>\n",
    "<thead>\n",
    "<tr>\n",
    "<th>Símbolo</th>\n",
    "<th>Significado</th>\n",
    "<th>Ejemplo</th>\n",
    "<th>Resultado</th>\n",
    "</tr>\n",
    "</thead>\n",
    "<tbody>\n",
    "<tr>\n",
    "<td><code>+</code></td>\n",
    "<td>Suma</td>\n",
    "<td><code>a = 10 + 5</code></td>\n",
    "<td><code>a</code> es <code>15</code></td>\n",
    "</tr>\n",
    "<tr>\n",
    "<td><code>-</code></td>\n",
    "<td>Resta</td>\n",
    "<td><code>a = 12 - 7</code></td>\n",
    "<td><code>a</code> es <code>5</code></td>\n",
    "</tr>\n",
    "<tr>\n",
    "<td><code>-</code></td>\n",
    "<td>Negación</td>\n",
    "<td><code>a = -5</code></td>\n",
    "<td><code>a</code> es <code>-5</code></td>\n",
    "</tr>\n",
    "<tr>\n",
    "<td><code>*</code></td>\n",
    "<td>Multiplicación</td>\n",
    "<td><code>a = 7 * 5</code></td>\n",
    "<td><code>a</code> es <code>35</code></td>\n",
    "</tr>\n",
    "<tr>\n",
    "<td><code>**</code></td>\n",
    "<td>Exponente</td>\n",
    "<td><code>a = 2 ** 3</code></td>\n",
    "<td><code>a</code> es <code>8</code></td>\n",
    "</tr>\n",
    "<tr>\n",
    "<td><code>/</code></td>\n",
    "<td>División</td>\n",
    "<td><code>a = 12.5 / 2</code></td>\n",
    "<td><code>a</code> es <code>6.25</code></td>\n",
    "</tr>\n",
    "<tr>\n",
    "<td><code>//</code></td>\n",
    "<td>División entera</td>\n",
    "<td><code>a = 12.5 / 2</code></td>\n",
    "<td><code>a</code> es <code>6.0</code></td>\n",
    "</tr>\n",
    "<tr>\n",
    "<td><code>%</code></td>\n",
    "<td>Módulo</td>\n",
    "<td><code>a = 27 % 4</code></td>\n",
    "<td><code>a</code> es <code>3</code></td>\n",
    "</tr>\n",
    "</tbody>\n",
    "</table>"
   ],
   "cell_type": "markdown",
   "metadata": {}
  },
  {
   "source": [
    "Nota: Siempre colocar un espacio en blanco, antes y después de un operador"
   ],
   "cell_type": "markdown",
   "metadata": {}
  },
  {
   "cell_type": "code",
   "execution_count": null,
   "metadata": {},
   "outputs": [],
   "source": [
    "monto_bruto = 175\n",
    "tasa_interes = 12\n",
    "monto_interes = monto_bruto * tasa_interes / 100\n",
    "tasa_bonificacion = 5\n",
    "importe_bonificacion = monto_bruto * tasa_bonificacion / 100\n",
    "monto_neto = (monto_bruto - importe_bonificacion) + monto_interes"
   ]
  },
  {
   "source": [
    "# Comentarios\n",
    "\n",
    "Un archivo, no solo puede contener código fuente. También puede incluir comentarios (notas que como programadores, indicamos en el código para poder comprenderlo mejor).\n",
    "\n",
    "Los comentarios pueden ser de dos tipos: de una sola línea o multi-línea y se expresan de la siguiente manera:"
   ],
   "cell_type": "markdown",
   "metadata": {}
  },
  {
   "cell_type": "code",
   "execution_count": null,
   "metadata": {},
   "outputs": [],
   "source": [
    "# Esto es un comentario de una sola línea\n",
    "mi_variable = 15\n",
    "\n",
    "\"\"\"Y este es un comentario \n",
    "de varias líneas\"\"\"\n",
    "mi_variable = 15\n",
    "\n",
    "mi_variable = 15 # Este comentario es de una línea también"
   ]
  }
 ]
}