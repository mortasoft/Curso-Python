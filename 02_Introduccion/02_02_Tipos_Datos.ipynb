{
 "metadata": {
  "language_info": {
   "codemirror_mode": {
    "name": "ipython",
    "version": 3
   },
   "file_extension": ".py",
   "mimetype": "text/x-python",
   "name": "python",
   "nbconvert_exporter": "python",
   "pygments_lexer": "ipython3",
   "version": "3.9.0-final"
  },
  "orig_nbformat": 2,
  "kernelspec": {
   "name": "python39064bit967d1c1033594960bd534a08fee26aa9",
   "display_name": "Python 3.9.0 64-bit",
   "language": "python"
  }
 },
 "nbformat": 4,
 "nbformat_minor": 2,
 "cells": [
  {
   "source": [
    "# Tipos de datos complejos\n",
    "\n",
    "Python, posee además de los tipos ya vistos, 3 tipos más complejos, que admiten una colección de datos. Estos tipos son:\n",
    "\n",
    "* Tuplas\n",
    "* Listas\n",
    "* Diccionarios\n",
    "\n",
    "Estos tres tipos, pueden almacenar colecciones de datos de diversos tipos y se diferencian por su sintaxis y por la forma en la cual los datos pueden ser manipulados."
   ],
   "cell_type": "markdown",
   "metadata": {}
  },
  {
   "source": [
    "## Tuplas\n",
    "Una tupla es una variable que permite almacenar varios datos inmutables (no pueden ser modificados una vez creados) de tipos diferentes:\n"
   ],
   "cell_type": "markdown",
   "metadata": {}
  },
  {
   "cell_type": "code",
   "execution_count": 1,
   "metadata": {},
   "outputs": [],
   "source": [
    "# Ejemplo\n",
    "mi_tupla = ('cadena de texto', 15, 2.8, 'otro dato', 25)"
   ]
  },
  {
   "source": [
    "Se puede acceder a cada uno de los datos mediante su índice correspondiente, siendo 0 (cero), el índice del primer elemento:"
   ],
   "cell_type": "markdown",
   "metadata": {}
  },
  {
   "cell_type": "code",
   "execution_count": 3,
   "metadata": {},
   "outputs": [
    {
     "output_type": "stream",
     "name": "stdout",
     "text": [
      "cadena de texto\n"
     ]
    }
   ],
   "source": [
    "print(mi_tupla[0])  # Salida: cadena de texto"
   ]
  },
  {
   "source": [
    "También se puede acceder a una porción de la tupla, indicando (opcionalmente) desde el índice de inicio hasta el índice de fin:"
   ],
   "cell_type": "markdown",
   "metadata": {}
  },
  {
   "cell_type": "code",
   "execution_count": 5,
   "metadata": {},
   "outputs": [
    {
     "output_type": "stream",
     "name": "stdout",
     "text": [
      "(15, 2.8, 'otro dato')\n('otro dato', 25)\n('cadena de texto', 15)\n"
     ]
    }
   ],
   "source": [
    "print(mi_tupla[1:4]) # Devuelve: (15, 2.8, 'otro dato')\n",
    "print(mi_tupla[3:])   # Devuelve: ('otro dato', 25)\n",
    "print(mi_tupla[:2])  # Devuelve: ('cadena de texto', 15)"
   ]
  },
  {
   "cell_type": "code",
   "execution_count": null,
   "metadata": {},
   "outputs": [],
   "source": []
  },
  {
   "source": [
    "Otra forma de acceder a la tupla de forma inversa (de atrás hacia adelante), es colocando un índice negativo:"
   ],
   "cell_type": "markdown",
   "metadata": {}
  },
  {
   "cell_type": "code",
   "execution_count": 6,
   "metadata": {},
   "outputs": [
    {
     "output_type": "stream",
     "name": "stdout",
     "text": [
      "25\notro dato\n"
     ]
    }
   ],
   "source": [
    "print(mi_tupla[-1]) # Salida: 25 \n",
    "print(mi_tupla[-2]) # Salida: otro dato"
   ]
  },
  {
   "source": [
    "## Listas\n",
    "Una lista es similar a una tupla con la diferencia fundamental de que permite modificar los datos una vez creados:"
   ],
   "cell_type": "markdown",
   "metadata": {}
  },
  {
   "cell_type": "code",
   "execution_count": 9,
   "metadata": {},
   "outputs": [],
   "source": [
    "mi_lista = ['cadena de texto', 15, 2.8, 'otro dato', 25]"
   ]
  },
  {
   "source": [
    "A las listas se accede igual que a las tuplas, por su número de índice:"
   ],
   "cell_type": "markdown",
   "metadata": {}
  },
  {
   "cell_type": "code",
   "execution_count": 10,
   "metadata": {},
   "outputs": [
    {
     "output_type": "stream",
     "name": "stdout",
     "text": [
      "15\n[15, 2.8, 'otro dato']\notro dato\n"
     ]
    }
   ],
   "source": [
    "print(mi_lista[1])   # Salida: 15\n",
    "print(mi_lista[1:4]) # Devuelve: [15, 2.8, 'otro dato']\n",
    "print(mi_lista[-2])  # Salida: otro dato"
   ]
  },
  {
   "cell_type": "code",
   "execution_count": 11,
   "metadata": {},
   "outputs": [],
   "source": [
    "A las listas se les puede modificar los valores, y agregar nuevos elementos:"
   ]
  },
  {
   "cell_type": "code",
   "execution_count": 14,
   "metadata": {},
   "outputs": [
    {
     "output_type": "stream",
     "name": "stdout",
     "text": [
      "['cadena de texto', 15, 3.8, 'otro dato', 25, 'Nuevo Dato', 'Nuevo Dato', 'Nuevo Dato']\n"
     ]
    }
   ],
   "source": [
    "mi_lista[2] = 3.8 # el tercer elemento ahora es 3.8\n",
    "mi_lista.append('Nuevo Dato') # Se agrega un nuevo elemento\n",
    "print(mi_lista)"
   ]
  },
  {
   "cell_type": "code",
   "execution_count": null,
   "metadata": {},
   "outputs": [],
   "source": []
  }
 ]
}