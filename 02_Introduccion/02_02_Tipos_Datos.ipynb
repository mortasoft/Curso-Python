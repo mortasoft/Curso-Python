{
 "metadata": {
  "language_info": {
   "codemirror_mode": {
    "name": "ipython",
    "version": 3
   },
   "file_extension": ".py",
   "mimetype": "text/x-python",
   "name": "python",
   "nbconvert_exporter": "python",
   "pygments_lexer": "ipython3",
   "version": "3.9.1-final"
  },
  "orig_nbformat": 2,
  "kernelspec": {
   "name": "python3",
   "display_name": "Python 3.9.1 64-bit",
   "metadata": {
    "interpreter": {
     "hash": "63fd5069d213b44bf678585dea6b12cceca9941eaf7f819626cde1f2670de90d"
    }
   }
  }
 },
 "nbformat": 4,
 "nbformat_minor": 2,
 "cells": [
  {
   "source": [
    "# Tipos de datos complejos\n",
    "\n",
    "Python, posee además de los tipos ya vistos, 3 tipos más complejos, que admiten una colección de datos. Estos tipos son:\n",
    "\n",
    "* Tuplas\n",
    "* Listas\n",
    "* Diccionarios\n",
    "\n",
    "Estos tres tipos, pueden almacenar colecciones de datos de diversos tipos y se diferencian por su sintaxis y por la forma en la cual los datos pueden ser manipulados."
   ],
   "cell_type": "markdown",
   "metadata": {}
  },
  {
   "source": [
    "## Tuplas\n",
    "Una tupla es una variable que permite almacenar varios datos inmutables (no pueden ser modificados una vez creados) de tipos diferentes:\n"
   ],
   "cell_type": "markdown",
   "metadata": {}
  },
  {
   "cell_type": "code",
   "execution_count": 2,
   "metadata": {},
   "outputs": [],
   "source": [
    "# Ejemplo\n",
    "mi_tupla = ('cadena de texto', 15, 2.8, 'otro dato', 25)"
   ]
  },
  {
   "source": [
    "Se puede acceder a cada uno de los datos mediante su índice correspondiente, siendo 0 (cero), el índice del primer elemento:"
   ],
   "cell_type": "markdown",
   "metadata": {}
  },
  {
   "cell_type": "code",
   "execution_count": 3,
   "metadata": {},
   "outputs": [
    {
     "output_type": "stream",
     "name": "stdout",
     "text": [
      "cadena de texto\n"
     ]
    }
   ],
   "source": [
    "print(mi_tupla[0])  # Salida: cadena de texto"
   ]
  },
  {
   "source": [
    "También se puede acceder a una porción de la tupla, indicando (opcionalmente) desde el índice de inicio hasta el índice de fin:"
   ],
   "cell_type": "markdown",
   "metadata": {}
  },
  {
   "cell_type": "code",
   "execution_count": 4,
   "metadata": {},
   "outputs": [
    {
     "output_type": "stream",
     "name": "stdout",
     "text": [
      "(15, 2.8, 'otro dato')\n('otro dato', 25)\n('cadena de texto', 15)\n"
     ]
    }
   ],
   "source": [
    "print(mi_tupla[1:4]) # Devuelve: (15, 2.8, 'otro dato')\n",
    "print(mi_tupla[3:])   # Devuelve: ('otro dato', 25)\n",
    "print(mi_tupla[:2])  # Devuelve: ('cadena de texto', 15)"
   ]
  },
  {
   "cell_type": "code",
   "execution_count": null,
   "metadata": {},
   "outputs": [],
   "source": []
  },
  {
   "source": [
    "Otra forma de acceder a la tupla de forma inversa (de atrás hacia adelante), es colocando un índice negativo:"
   ],
   "cell_type": "markdown",
   "metadata": {}
  },
  {
   "cell_type": "code",
   "execution_count": 5,
   "metadata": {},
   "outputs": [
    {
     "output_type": "stream",
     "name": "stdout",
     "text": [
      "25\notro dato\n"
     ]
    }
   ],
   "source": [
    "print(mi_tupla[-1]) # Salida: 25 \n",
    "print(mi_tupla[-2]) # Salida: otro dato"
   ]
  },
  {
   "source": [
    "## Listas\n",
    "Una lista es similar a una tupla con la diferencia fundamental de que permite modificar los datos una vez creados:"
   ],
   "cell_type": "markdown",
   "metadata": {}
  },
  {
   "cell_type": "code",
   "execution_count": 6,
   "metadata": {},
   "outputs": [],
   "source": [
    "mi_lista = ['cadena de texto', 15, 2.8, 'otro dato', 25]"
   ]
  },
  {
   "source": [
    "A las listas se accede igual que a las tuplas, por su número de índice:"
   ],
   "cell_type": "markdown",
   "metadata": {}
  },
  {
   "cell_type": "code",
   "execution_count": 8,
   "metadata": {},
   "outputs": [
    {
     "output_type": "stream",
     "name": "stdout",
     "text": [
      "15\n[15, 2.8, 'otro dato']\notro dato\n"
     ]
    }
   ],
   "source": [
    "print(mi_lista[1])   # Salida: 15\n",
    "print(mi_lista[1:4]) # Devuelve: [15, 2.8, 'otro dato']\n",
    "print(mi_lista[-2])  # Salida: otro dato"
   ]
  },
  {
   "source": [
    "A las listas se les puede modificar los valores, y agregar nuevos elementos:"
   ],
   "cell_type": "markdown",
   "metadata": {}
  },
  {
   "cell_type": "code",
   "execution_count": 10,
   "metadata": {},
   "outputs": [
    {
     "output_type": "stream",
     "name": "stdout",
     "text": [
      "['cadena de texto', 15, 3.8, 'otro dato', 25, 'Nuevo Dato']\n"
     ]
    }
   ],
   "source": [
    "mi_lista[2] = 3.8 # el tercer elemento ahora es 3.8\n",
    "mi_lista.append('Nuevo Dato') # Se agrega un nuevo elemento\n",
    "print(mi_lista)"
   ]
  },
  {
   "source": [
    "## Diccionarios\n",
    "\n",
    "Mientras que a las listas y tuplas se accede solo y únicamente por un número de índice, los diccionarios permiten utilizar una clave para declarar y acceder a un valor:"
   ],
   "cell_type": "markdown",
   "metadata": {}
  },
  {
   "cell_type": "code",
   "execution_count": 19,
   "metadata": {},
   "outputs": [
    {
     "output_type": "stream",
     "name": "stdout",
     "text": [
      "valor_2\n"
     ]
    }
   ],
   "source": [
    "mi_diccionario = {'clave_1': \"valor_1\", 'clave_2': \"valor_2\", 'clave_7': \"valor_7\"} \n",
    "print(mi_diccionario['clave_2']) # Salida: valor_2"
   ]
  },
  {
   "source": [
    "Un diccionario permite eliminar cualquier entrada:\n"
   ],
   "cell_type": "markdown",
   "metadata": {}
  },
  {
   "cell_type": "code",
   "execution_count": 15,
   "metadata": {},
   "outputs": [],
   "source": [
    "del(mi_diccionario['clave_2'])"
   ]
  },
  {
   "cell_type": "code",
   "execution_count": 16,
   "metadata": {},
   "outputs": [
    {
     "output_type": "stream",
     "name": "stdout",
     "text": [
      "{'clave_1': 'valor_1', 'clave_7': 'valor_7'}\n"
     ]
    }
   ],
   "source": [
    "print(mi_diccionario)"
   ]
  },
  {
   "source": [
    "Al igual que las listas, el diccionario permite modificar los valores"
   ],
   "cell_type": "markdown",
   "metadata": {}
  },
  {
   "cell_type": "code",
   "execution_count": 20,
   "metadata": {},
   "outputs": [
    {
     "output_type": "stream",
     "name": "stdout",
     "text": [
      "{'clave_1': 'Nuevo Valor', 'clave_2': 'valor_2', 'clave_7': 'valor_7'}\n"
     ]
    }
   ],
   "source": [
    "mi_diccionario['clave_1'] = 'Nuevo Valor'\n",
    "print(mi_diccionario)"
   ]
  }
 ]
}