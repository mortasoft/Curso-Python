{
 "metadata": {
  "language_info": {
   "codemirror_mode": {
    "name": "ipython",
    "version": 3
   },
   "file_extension": ".py",
   "mimetype": "text/x-python",
   "name": "python",
   "nbconvert_exporter": "python",
   "pygments_lexer": "ipython3",
   "version": "3.9.1-final"
  },
  "orig_nbformat": 2,
  "kernelspec": {
   "name": "python3",
   "display_name": "Python 3.9.1 64-bit",
   "metadata": {
    "interpreter": {
     "hash": "ac59ebe37160ed0dfa835113d9b8498d9f09ceb179beaac4002f036b9467c963"
    }
   }
  }
 },
 "nbformat": 4,
 "nbformat_minor": 2,
 "cells": [
  {
   "source": [
    "# 04 - Técnicas para resolución de problemas computacionales"
   ],
   "cell_type": "markdown",
   "metadata": {}
  },
  {
   "source": [
    "## Que es un algoritmo\n",
    "\n",
    "https://www.youtube.com/watch?v=U3CGMyjzlvM&ab_channel=MagicMarkers"
   ],
   "cell_type": "markdown",
   "metadata": {}
  },
  {
   "source": [
    "## Diferencias entre lenguajes compilados e interpretados\n",
    "https://www.youtube.com/watch?v=sKIgTk5NDAI&ab_channel=HTMLRules"
   ],
   "cell_type": "markdown",
   "metadata": {}
  },
  {
   "source": [
    "### 4. Técnicas para resolución de problemas computacionales.\n",
    "* #### Pseudocodigo\n",
    "\n",
    "Acción 1;\n",
    "Acción 2;\n",
    "...\n",
    "Acción n;\n",
    "\n",
    "Si Condición Entonces\n",
    "  Acción;\n",
    "FinSi\n",
    "\n",
    "Si Condición Entonces\n",
    "  Acción A;\n",
    "SiNo\n",
    "  Acción B;\n",
    "FinSi\n",
    "\n",
    "\n",
    "Según Indicador Hacer\n",
    "  Caso Valor 1:\n",
    "    Acción 1;\n",
    "  Caso Valor 2:\n",
    "    Acción 2;\n",
    " ...\n",
    "  Caso Valor n:\n",
    "    Acción n;\n",
    "  [De Otro Modo:\n",
    "    Acción X;]\n",
    "FinSegun\n",
    "\n",
    "\n",
    "\n",
    "\n"
   ],
   "cell_type": "markdown",
   "metadata": {}
  }
 ]
}