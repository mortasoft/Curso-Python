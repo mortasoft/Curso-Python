{
 "metadata": {
  "language_info": {
   "codemirror_mode": {
    "name": "ipython",
    "version": 3
   },
   "file_extension": ".py",
   "mimetype": "text/x-python",
   "name": "python",
   "nbconvert_exporter": "python",
   "pygments_lexer": "ipython3",
   "version": "3.9.0-final"
  },
  "orig_nbformat": 2,
  "kernelspec": {
   "name": "python39064bit967d1c1033594960bd534a08fee26aa9",
   "display_name": "Python 3.9.0 64-bit",
   "language": "python"
  }
 },
 "nbformat": 4,
 "nbformat_minor": 2,
 "cells": [
  {
   "source": [
    "# Preparación del entorno de desarrollo"
   ],
   "cell_type": "markdown",
   "metadata": {}
  },
  {
   "source": [
    "Comenzamos instalando todas las aplicaciones necesarias para crear el entorno de desarrollo para trabajar con Python. Se utilizaran las siguientes herramientas y tecnologías:\n",
    "\n",
    "* Sistema Operativo Windows 10\n",
    "* Python 3.9\n",
    "* iPython (Shell interactivo mejorado)\n",
    "* Visual Studio Code\n",
    "* Github (Sistema de Control de Versiones distribuido)\n"
   ],
   "cell_type": "markdown",
   "metadata": {}
  },
  {
   "source": [
    "### 1. Instalar Python 3.9\n",
    "\n",
    "Python es un lenguaje de programación interpretado cuya filosofía hace hincapié en la legibilidad de su código.​ Se trata de un lenguaje de programación multiparadigma, ya que soporta orientación a objetos, programación imperativa y, en menor medida, programación funcional. Es un lenguaje interpretado, dinámico y multiplataforma.\n",
    "\n",
    "#### 1.1 Ingresar al sitio e instalar la aplicacion: \n",
    "\n",
    "> https://www.python.org/ftp/python/3.9.1/python-3.9.1-amd64.exe"
   ],
   "cell_type": "markdown",
   "metadata": {}
  },
  {
   "source": [
    "### 2. Instalar Visual Studio Code\n",
    "\n",
    "Visual Studio Code es un editor de código fuente desarrollado por Microsoft para Windows, Linux y macOS. Incluye soporte para la depuración, control integrado de Git, resaltado de sintaxis, finalización inteligente de código, fragmentos y refactorización de código. También es personalizable, por lo que los usuarios pueden cambiar el tema del editor, los atajos de teclado y las preferencias. Es gratuito y de código abierto.\n",
    "\n",
    "#### 2.1 Ingresar al sitio: \n",
    "\n",
    "> https://code.visualstudio.com/download\n",
    "\n",
    " <img src=\"img/01.png\" />\n"
   ],
   "cell_type": "markdown",
   "metadata": {}
  }
 ]
}