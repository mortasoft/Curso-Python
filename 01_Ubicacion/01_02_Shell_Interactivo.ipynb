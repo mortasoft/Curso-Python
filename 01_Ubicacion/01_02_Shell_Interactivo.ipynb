{
 "metadata": {
  "language_info": {
   "codemirror_mode": {
    "name": "ipython",
    "version": 3
   },
   "file_extension": ".py",
   "mimetype": "text/x-python",
   "name": "python",
   "nbconvert_exporter": "python",
   "pygments_lexer": "ipython3",
   "version": "3.9.1-final"
  },
  "orig_nbformat": 2,
  "kernelspec": {
   "name": "python3",
   "display_name": "Python 3.9.1 64-bit",
   "metadata": {
    "interpreter": {
     "hash": "ac59ebe37160ed0dfa835113d9b8498d9f09ceb179beaac4002f036b9467c963"
    }
   }
  }
 },
 "nbformat": 4,
 "nbformat_minor": 2,
 "cells": [
  {
   "source": [
    "# Clase 01: Ubicación"
   ],
   "cell_type": "markdown",
   "metadata": {}
  },
  {
   "source": [
    "## Contenidos\n",
    "1. Preparación del entorno de desarrollo Instalando Python\n",
    "2. Instalación de un Shell interactivo mejorado Instalando el IDE\n",
    "3. Como pensar como un desarrollador.\n",
    "4. Técnicas para resolución de problemas computacionales.\n",
    "5. Presentación de Pep 8\n"
   ],
   "cell_type": "markdown",
   "metadata": {}
  },
  {
   "source": [
    "### 2. Instalación de un Shell interactivo mejorado Instalando el IDE\n",
    "> https://code.visualstudio.com/docs/python/jupyter-support\n"
   ],
   "cell_type": "markdown",
   "metadata": {}
  }
 ]
}