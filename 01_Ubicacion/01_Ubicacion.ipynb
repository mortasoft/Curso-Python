{
 "metadata": {
  "language_info": {
   "codemirror_mode": {
    "name": "ipython",
    "version": 3
   },
   "file_extension": ".py",
   "mimetype": "text/x-python",
   "name": "python",
   "nbconvert_exporter": "python",
   "pygments_lexer": "ipython3",
   "version": "3.9.1-final"
  },
  "orig_nbformat": 2,
  "kernelspec": {
   "name": "python3",
   "display_name": "Python 3.9.1 64-bit",
   "metadata": {
    "interpreter": {
     "hash": "ac59ebe37160ed0dfa835113d9b8498d9f09ceb179beaac4002f036b9467c963"
    }
   }
  }
 },
 "nbformat": 4,
 "nbformat_minor": 2,
 "cells": [
  {
   "source": [
    "# Clase 01: Ubicación"
   ],
   "cell_type": "markdown",
   "metadata": {}
  },
  {
   "source": [
    "## Contenidos\n",
    "1. Preparación del entorno de desarrollo Instalando Python\n",
    "2. Instalación de un Shell interactivo mejorado Instalando el IDE\n",
    "3. Como pensar como un desarrollador.\n",
    "4. Técnicas para resolución de problemas computacionales.\n",
    "5. Presentación de Pep 8\n"
   ],
   "cell_type": "markdown",
   "metadata": {}
  },
  {
   "source": [
    "### 1. Preparación del entorno de desarrollo Instalando Python\n",
    "\n",
    "> #### Instalar Visual Studio Code\n",
    "https://code.visualstudio.com/download\n",
    "\n",
    ">#### Instalar Python 3.9\n",
    "https://www.python.org/ftp/python/3.9.1/python-3.9.1-amd64.exe"
   ],
   "cell_type": "markdown",
   "metadata": {}
  },
  {
   "source": [
    "### 2. Instalación de un Shell interactivo mejorado Instalando el IDE\n",
    "> https://code.visualstudio.com/docs/python/jupyter-support\n"
   ],
   "cell_type": "markdown",
   "metadata": {}
  },
  {
   "source": [
    "### 3. Como pensar como un desarrollador.\n",
    "\n",
    "La habilidad mas importante del cientifico informatico es la solucion de problemas. La solucion de problemas incluye poder formular problemas, pensar en la solucion de manera creativa, y expresar una solucion con claridad y precision. Como se vera, el proceso de aprender a programar es la oportunidad perfecta\n",
    "para desarrollar la habilidad de resolver problemas\n",
    "\n",
    "1. #### Comprender\n",
    "Sepa exactamente lo que se está preguntando. La mayoría de los problemas difíciles son difíciles porque no los entiendes (de ahí que este sea el primer paso).\n",
    "<br> ¿Cómo saber cuándo entiendes un problema? Cuando puedes explicarlo en inglés simple. \n",
    "<br> ¿Te acuerdas de estar atascado en un problema, empiezas a explicarlo y ves instantáneamente agujeros en la lógica que no veías antes?\n",
    "<br> La mayoría de los programadores conocen este sentimiento.\n",
    "<br> Es por eso que debe escribir su problema, garabatear un diagrama, o contarle a alguien sobre eso.\n",
    "<br> “Si no puedes explicar algo en términos simples, no lo entiendes”. Richard Feynman\n",
    "\n",
    "2. #### Plan\n",
    "No se meta directamente en la solución sin un plan (y de alguna manera espere que pueda abrirse paso a través de ella). ¡Planifica tu solución!\n",
    "Nada puede ayudarlo si no puede anotar los pasos exactos.\n",
    "En la programación, esto significa que no comiences a piratear de inmediato. Dale tiempo a tu cerebro para analizar el problema y procesar la información.\n",
    "Para obtener un buen plan, responda esta pregunta:\n",
    "“Dada la entrada X, ¿cuáles son los pasos necesarios para devolver la salida Y?”\n",
    "Nota: Los programadores tienen una gran herramienta para ayudarlos con esto … ¡Comentarios!\n",
    "\n",
    "3. #### Divide\n",
    "Presta atención. Este es el paso más importante de todos.\n",
    "No trates de resolver un gran problema. Llorarás.\n",
    "En cambio, divídalo en sub-problemas. Estos sub-problemas son mucho más fáciles de resolver.\n",
    "Luego, resuelve cada sub-problema uno por uno. Comienza con lo más simple. Lo más simple significa que conoce la respuesta (o está más cerca de esa respuesta).\n",
    "Después de eso, lo más simple significa que este sub-problema que se está resolviendo no depende de que otros se resuelvan.\n",
    "Una vez que haya resuelto cada sub-problema, conecte los puntos.\n",
    "Conectar todas sus “sub-soluciones” le dará la solución al problema original. ¡Felicidades!\n",
    "\n",
    "4. #### ¿Atascado?\n",
    "Por ahora, probablemente estés sentado allí pensando “Eso es genial y todo, ¿pero qué pasa si estoy atascado y ni siquiera puedo resolver un sub-problema?”\n",
    "Primero, respira profundo. En segundo lugar, eso es justo.\n",
    "No te preocupes, amigo. Esto le sucede a todos!\n",
    "La diferencia es que los mejores programadores / solucionadores de problemas son más curiosos sobre errores / errores que irritados.\n",
    "De hecho, aquí hay tres cosas que debes probar cuando te enfrentas a eso:\n",
    "\n",
    " * Depuración: vaya paso a paso a través de su solución tratando de encontrar dónde salió mal. Los programadores llaman a esto depuración(de hecho, esto es todo lo que hace un depurador)\n",
    " * Reevaluar: dar un paso atrás. Mira el problema desde otra perspectiva. ¿Hay algo que pueda resumirse en un enfoque más general?\n",
    " * Desechar: Otra forma de volver a evaluar está comenzando de nuevo. Borre todo y comience nuevamente con ojos nuevos. Lo digo en serio. Estarás estupefacto por lo efectivo que es esto.\n",
    " * Investigación: Ahh, bueno viejo Google. Lo leíste bien. No importa qué problema tengas, alguien probablemente lo haya resuelto. Encuentra esa persona / solución. De hecho, ¡hazlo incluso si resolvieras el problema! (Puedes aprender mucho de las soluciones de otras personas).\n",
    "\n",
    "5. #### Practica \n",
    "No esperes ser genial después de solo una semana. Si quieres ser un buen solucionador de problemas, ¡resuelve muchos problemas!\n",
    "Práctica. Práctica. Práctica. Solo será cuestión de tiempo antes de que reconozca que “este problema podría resolverse fácilmente con <insertar concepto aquí>”.\n",
    "\n",
    " \n",
    "\n",
    "\n"
   ],
   "cell_type": "markdown",
   "metadata": {}
  },
  {
   "source": [
    "### 4. Técnicas para resolución de problemas computacionales.\n",
    "* #### Pseudocodigo\n",
    "\n",
    "Acción 1;\n",
    "Acción 2;\n",
    "...\n",
    "Acción n;\n",
    "\n",
    "Si Condición Entonces\n",
    "  Acción;\n",
    "FinSi\n",
    "\n",
    "Si Condición Entonces\n",
    "  Acción A;\n",
    "SiNo\n",
    "  Acción B;\n",
    "FinSi\n",
    "\n",
    "\n",
    "Según Indicador Hacer\n",
    "  Caso Valor 1:\n",
    "    Acción 1;\n",
    "  Caso Valor 2:\n",
    "    Acción 2;\n",
    " ...\n",
    "  Caso Valor n:\n",
    "    Acción n;\n",
    "  [De Otro Modo:\n",
    "    Acción X;]\n",
    "FinSegun\n",
    "\n",
    "\n",
    "\n",
    "\n"
   ],
   "cell_type": "markdown",
   "metadata": {}
  },
  {
   "source": [
    "### 5. Presentación de Pep 8\n",
    "* #### Sintaxis"
   ],
   "cell_type": "markdown",
   "metadata": {}
  }
 ]
}