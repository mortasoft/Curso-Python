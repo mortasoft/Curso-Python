{
 "metadata": {
  "language_info": {
   "codemirror_mode": {
    "name": "ipython",
    "version": 3
   },
   "file_extension": ".py",
   "mimetype": "text/x-python",
   "name": "python",
   "nbconvert_exporter": "python",
   "pygments_lexer": "ipython3",
   "version": 3
  },
  "orig_nbformat": 2
 },
 "nbformat": 4,
 "nbformat_minor": 2,
 "cells": [
  {
   "source": [
    "## Contenidos\n",
    "1. Preparación del entorno de desarrollo Instalando Python\n",
    "2. Instalación de un Shell interactivo mejorado Instalando el IDE\n",
    "3. Como pensar como un desarrollador.\n",
    "4. Técnicas para resolución de problemas computacionales."
   ],
   "cell_type": "markdown",
   "metadata": {}
  }
 ]
}