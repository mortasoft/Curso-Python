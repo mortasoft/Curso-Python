{
 "metadata": {
  "language_info": {
   "codemirror_mode": {
    "name": "ipython",
    "version": 3
   },
   "file_extension": ".py",
   "mimetype": "text/x-python",
   "name": "python",
   "nbconvert_exporter": "python",
   "pygments_lexer": "ipython3",
   "version": "3.9.1-final"
  },
  "orig_nbformat": 2,
  "kernelspec": {
   "name": "python3",
   "display_name": "Python 3.9.1 64-bit",
   "metadata": {
    "interpreter": {
     "hash": "63fd5069d213b44bf678585dea6b12cceca9941eaf7f819626cde1f2670de90d"
    }
   }
  }
 },
 "nbformat": 4,
 "nbformat_minor": 2,
 "cells": [
  {
   "source": [
    "# Strings\n",
    "\n",
    "## Convertir a mayuscula la primera letra"
   ],
   "cell_type": "markdown",
   "metadata": {}
  },
  {
   "source": [
    "\n",
    "#Método: capitalize()\n",
    "#Retorna: una copia de la cadena con la primera letra en mayúsculas.\n",
    "\n",
    "cadena = \"bienvenido a mi aplicación\" \n",
    "print(cadena.capitalize())"
   ],
   "cell_type": "code",
   "metadata": {},
   "execution_count": 5,
   "outputs": [
    {
     "output_type": "stream",
     "name": "stdout",
     "text": [
      "Bienvenido a mi aplicación\n"
     ]
    }
   ]
  },
  {
   "source": [
    "## Convertir una cadena a minúsculas"
   ],
   "cell_type": "markdown",
   "metadata": {}
  },
  {
   "cell_type": "code",
   "execution_count": 7,
   "metadata": {},
   "outputs": [
    {
     "output_type": "stream",
     "name": "stdout",
     "text": [
      "hola mundo\n"
     ]
    }
   ],
   "source": [
    "#Método: lower()\n",
    "#Retorna: una copia de la cadena en minúsculas.\n",
    "\n",
    "cadena = \"HolA MundO\" \n",
    "print(cadena.lower())\n"
   ]
  },
  {
   "source": [
    "## Convertir una cadena a mayusculas"
   ],
   "cell_type": "markdown",
   "metadata": {}
  },
  {
   "cell_type": "code",
   "execution_count": 8,
   "metadata": {},
   "outputs": [
    {
     "output_type": "stream",
     "name": "stdout",
     "text": [
      "HOLA MUNDO\n"
     ]
    }
   ],
   "source": [
    "#Método: upper()\n",
    "#Retorna: una copia de la cadena en mayúsculas.\n",
    "\n",
    "cadena = \"Hola Mundo\" \n",
    "print(cadena.upper())\n"
   ]
  },
  {
   "source": [
    "## Convertir una cadena en Formato Título"
   ],
   "cell_type": "markdown",
   "metadata": {}
  },
  {
   "cell_type": "code",
   "execution_count": 10,
   "metadata": {},
   "outputs": [
    {
     "output_type": "stream",
     "name": "stdout",
     "text": [
      "Hola Mundo\n"
     ]
    }
   ],
   "source": [
    "#Método: title()\n",
    "#Retorna: una copia de la cadena convertida.\n",
    "\n",
    "cadena = \"hola mundo\" \n",
    "print(cadena.title())"
   ]
  },
  {
   "source": [
    "## Centrar un texto"
   ],
   "cell_type": "markdown",
   "metadata": {}
  },
  {
   "cell_type": "code",
   "execution_count": 17,
   "metadata": {},
   "outputs": [
    {
     "output_type": "stream",
     "name": "stdout",
     "text": [
      "=====================================Bienvenido a mi Aplicación=====================================\n*************************************Bienvenido a mi Aplicación*************************************\n-------------------------------------Bienvenido a mi Aplicación-------------------------------------\n                                     Bienvenido a mi Aplicación                                     \n"
     ]
    }
   ],
   "source": [
    "#Método: center(longitud[, \"caracter de relleno\"])\n",
    "#Retorna: una copia de la cadena centrada.\n",
    "\n",
    "cadena = \"Bienvenido a mi Aplicación\"\n",
    "cadena_centrada1 = cadena.center(100, \"=\")\n",
    "cadena_centrada2 = cadena.center(100, \"*\")\n",
    "cadena_centrada3 = cadena.center(100, \"-\")\n",
    "cadena_centrada4 = cadena.center(100)\n",
    "print(cadena_centrada1)\n",
    "print(cadena_centrada2)\n",
    "print(cadena_centrada3)\n",
    "print(cadena_centrada4)"
   ]
  },
  {
   "source": [
    "## Alinear un texto a la izquierda o derecha"
   ],
   "cell_type": "markdown",
   "metadata": {}
  },
  {
   "cell_type": "code",
   "execution_count": 18,
   "metadata": {},
   "outputs": [
    {
     "output_type": "stream",
     "name": "stdout",
     "text": [
      "bienvenido a mi aplicación==========================================================================\n==========================================================================bienvenido a mi aplicación\n"
     ]
    }
   ],
   "source": [
    "#Método: ljust(longitud[, \"caracter de relleno\"])\n",
    "#Retorna: una copia de la cadena alineada a la izquierda.\n",
    "\n",
    "cadena = \"bienvenido a mi aplicación\"\n",
    "print(cadena.ljust(100, \"=\"))\n",
    "\n",
    "#Método: rjust(longitud[, \"caracter de relleno\"])\n",
    "#Retorna: una copia de la cadena alineada a la derecha.\n",
    "\n",
    "cadena = \"bienvenido a mi aplicación\"\n",
    "print(cadena.rjust(100, \"=\"))\n"
   ]
  },
  {
   "source": [
    "## Rellenar un texto anteponiendo ceros"
   ],
   "cell_type": "markdown",
   "metadata": {}
  },
  {
   "cell_type": "code",
   "execution_count": 24,
   "metadata": {},
   "outputs": [
    {
     "output_type": "stream",
     "name": "stdout",
     "text": [
      "00001575\n"
     ]
    }
   ],
   "source": [
    "#Método: zfill(longitud)\n",
    "#Retorna: una copia de la cadena rellena con ceros a la izquierda hasta alcanzar la longitud final indicada.\n",
    "\n",
    "numero_factura = 1575 \n",
    "print(str(numero_factura).zfill(8)) \n"
   ]
  },
  {
   "cell_type": "code",
   "execution_count": null,
   "metadata": {},
   "outputs": [],
   "source": []
  }
 ]
}