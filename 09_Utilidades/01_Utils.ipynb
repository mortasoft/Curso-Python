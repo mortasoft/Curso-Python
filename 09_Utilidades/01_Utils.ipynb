{
 "metadata": {
  "language_info": {
   "codemirror_mode": {
    "name": "ipython",
    "version": 3
   },
   "file_extension": ".py",
   "mimetype": "text/x-python",
   "name": "python",
   "nbconvert_exporter": "python",
   "pygments_lexer": "ipython3",
   "version": "3.9.0-final"
  },
  "orig_nbformat": 2,
  "kernelspec": {
   "name": "python39064bit967d1c1033594960bd534a08fee26aa9",
   "display_name": "Python 3.9.0 64-bit",
   "language": "python"
  }
 },
 "nbformat": 4,
 "nbformat_minor": 2,
 "cells": [
  {
   "cell_type": "code",
   "execution_count": 3,
   "metadata": {},
   "outputs": [
    {
     "output_type": "stream",
     "name": "stdout",
     "text": [
      "{'name': 'Yasoob', 'age': 'undefined', 'personality': 'awesome'}\n"
     ]
    }
   ],
   "source": [
    "from pprint import pprint\n",
    "my_dict = {'name': 'Yasoob', 'age': 'undefined', 'personality': 'awesome'}\n",
    "print(my_dict)"
   ]
  },
  {
   "cell_type": "code",
   "execution_count": null,
   "metadata": {},
   "outputs": [],
   "source": [
    "CSV to json\n",
    "\n",
    "python -c \"import csv,json;print json.dumps(list(csv.reader(open('csv_file.csv'))))\""
   ]
  }
 ]
}