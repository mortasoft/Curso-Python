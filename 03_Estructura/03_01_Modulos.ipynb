{
 "metadata": {
  "language_info": {
   "codemirror_mode": {
    "name": "ipython",
    "version": 3
   },
   "file_extension": ".py",
   "mimetype": "text/x-python",
   "name": "python",
   "nbconvert_exporter": "python",
   "pygments_lexer": "ipython3",
   "version": "3.9.1-final"
  },
  "orig_nbformat": 2,
  "kernelspec": {
   "name": "python3",
   "display_name": "Python 3.9.1 64-bit",
   "metadata": {
    "interpreter": {
     "hash": "63fd5069d213b44bf678585dea6b12cceca9941eaf7f819626cde1f2670de90d"
    }
   }
  }
 },
 "nbformat": 4,
 "nbformat_minor": 2,
 "cells": [
  {
   "source": [
    "# Modulos\n",
    "En Python, cada uno de nuestros archivos .py se denominan módulos. Estos módulos, a la vez, pueden formar parte de paquetes. Un paquete, es una carpeta que contiene archivos .py. Pero, para que una carpeta pueda ser considerada un paquete, debe contener un archivo de inicio llamado __init__.py. Este archivo, no necesita contener ninguna instrucción. De hecho, puede estar completamente vacío.\n",
    "\n",
    "<pre class=\"code\">└── paquete \n",
    "    ├── __init__.py \n",
    "    ├── modulo1.py \n",
    "    ├── modulo2.py \n",
    "    └── modulo3.py</pre>\n",
    "\n",
    "Los paquetes, a la vez, también pueden contener otros sub-paquetes:\n",
    "\n",
    "<pre class=\"code\">. \n",
    "└── paquete \n",
    "    ├── __init__.py \n",
    "    ├── modulo1.py \n",
    "    └── subpaquete \n",
    "        ├── __init__.py \n",
    "        ├── modulo1.py \n",
    "        └── modulo2.py</pre>\n",
    "\n",
    "Y los módulos, no necesariamente, deben pertenecer a un paquete:\n",
    "\n",
    "<pre class=\"code\">. \n",
    "├── modulo1.py \n",
    "└── paquete \n",
    "    ├── __init__.py \n",
    "    ├── modulo1.py \n",
    "    └── subpaquete \n",
    "        ├── __init__.py \n",
    "        ├── modulo1.py \n",
    "        └── modulo2.py</pre>\n"
   ],
   "cell_type": "markdown",
   "metadata": {}
  },
  {
   "source": [
    "El contenido de cada módulo, podrá ser utilizado a la vez, por otros módulos. Para ello, es necesario importar los módulos que se quieran utilizar. Para importar un módulo, se utiliza la instrucción import, seguida del nombre del paquete (si aplica) más el nombre del módulo (sin el .py) que se desee importar.\n",
    "\n",
    "<pre>\n",
    "import modulo          # importar un módulo que no pertenece a un paquete \n",
    "import paquete.modulo1 # importar un módulo que está dentro de un paquete\n",
    "import paquete.subpaquete.modulo1\n",
    "</pre>"
   ],
   "cell_type": "markdown",
   "metadata": {}
  },
  {
   "source": [
    "## Alias\n",
    "Es posible también, abreviar los namespaces mediante un alias. Para ello, durante la importación, se asigna la palabra clave as seguida del alias con el cuál nos referiremos en el futuro a ese namespace importado:\n"
   ],
   "cell_type": "markdown",
   "metadata": {}
  },
  {
   "cell_type": "code",
   "execution_count": 2,
   "metadata": {},
   "outputs": [
    {
     "output_type": "error",
     "ename": "ModuleNotFoundError",
     "evalue": "No module named 'modulo'",
     "traceback": [
      "\u001b[1;31m---------------------------------------------------------------------------\u001b[0m",
      "\u001b[1;31mModuleNotFoundError\u001b[0m                       Traceback (most recent call last)",
      "\u001b[1;32m<ipython-input-2-a0f927ecf164>\u001b[0m in \u001b[0;36m<module>\u001b[1;34m\u001b[0m\n\u001b[1;32m----> 1\u001b[1;33m \u001b[1;32mimport\u001b[0m \u001b[0mmodulo\u001b[0m \u001b[1;32mas\u001b[0m \u001b[0mm\u001b[0m\u001b[1;33m\u001b[0m\u001b[1;33m\u001b[0m\u001b[0m\n\u001b[0m\u001b[0;32m      2\u001b[0m \u001b[1;32mimport\u001b[0m \u001b[0mpaquete\u001b[0m\u001b[1;33m.\u001b[0m\u001b[0mmodulo1\u001b[0m \u001b[1;32mas\u001b[0m \u001b[0mpm\u001b[0m\u001b[1;33m\u001b[0m\u001b[1;33m\u001b[0m\u001b[0m\n\u001b[0;32m      3\u001b[0m \u001b[1;32mimport\u001b[0m \u001b[0mpaquete\u001b[0m\u001b[1;33m.\u001b[0m\u001b[0msubpaquete\u001b[0m\u001b[1;33m.\u001b[0m\u001b[0mmodulo1\u001b[0m \u001b[1;32mas\u001b[0m \u001b[0mpsm\u001b[0m\u001b[1;33m\u001b[0m\u001b[1;33m\u001b[0m\u001b[0m\n",
      "\u001b[1;31mModuleNotFoundError\u001b[0m: No module named 'modulo'"
     ]
    }
   ],
   "source": [
    "import modulo as m\n",
    "import paquete.modulo1 as pm\n",
    "import paquete.subpaquete.modulo1 as psm"
   ]
  },
  {
   "source": [
    "Luego, para acceder a cualquier elemento de los módulos importados, el namespace utilizado será el alias indicado durante la importación:"
   ],
   "cell_type": "markdown",
   "metadata": {}
  },
  {
   "cell_type": "code",
   "execution_count": 1,
   "metadata": {},
   "outputs": [
    {
     "output_type": "error",
     "ename": "SyntaxError",
     "evalue": "invalid syntax (<ipython-input-1-64ff959897f7>, line 1)",
     "traceback": [
      "\u001b[1;36m  File \u001b[1;32m\"<ipython-input-1-64ff959897f7>\"\u001b[1;36m, line \u001b[1;32m1\u001b[0m\n\u001b[1;33m    print(m.CONSTANTE _1)\u001b[0m\n\u001b[1;37m                      ^\u001b[0m\n\u001b[1;31mSyntaxError\u001b[0m\u001b[1;31m:\u001b[0m invalid syntax\n"
     ]
    }
   ],
   "source": [
    "print(m.CONSTANTE _1)\n",
    "print(pm.CONSTANTE _1)\n",
    "print(psm.CONSTANTE_1)"
   ]
  }
 ]
}