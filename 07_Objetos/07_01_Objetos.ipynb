{
 "metadata": {
  "language_info": {
   "codemirror_mode": {
    "name": "ipython",
    "version": 3
   },
   "file_extension": ".py",
   "mimetype": "text/x-python",
   "name": "python",
   "nbconvert_exporter": "python",
   "pygments_lexer": "ipython3",
   "version": "3.9.1-final"
  },
  "orig_nbformat": 2,
  "kernelspec": {
   "name": "python3",
   "display_name": "Python 3.9.1 64-bit",
   "metadata": {
    "interpreter": {
     "hash": "63fd5069d213b44bf678585dea6b12cceca9941eaf7f819626cde1f2670de90d"
    }
   }
  }
 },
 "nbformat": 4,
 "nbformat_minor": 2,
 "cells": [
  {
   "source": [
    "# Objetos\n",
    "\n",
    "En Python todo es un “objeto” y debe ser manipulado -y entendido- como tal. Pero ¿Qué es un objeto? ¿De qué hablamos cuando nos referimos a “orientación a objetos? En este capítulo, haremos una introducción que responderá a estas -y muchas otras- preguntas.\n",
    "\n",
    "Nos enfocaremos primero, en cuestiones de conceptos básicos, para luego, ir introduciéndonos de a poco, en principios teóricos elementalmente necesarios, para implementar la orientación a objetos en la práctica.\n",
    "\n",
    "Pensar en objetos, puede resultar -al inicio- una tarea difícil. Sin embargo, difícil no significa complejo. Por el contrario, pensar en objetos representa la mayor simplicidad que uno podría esperar del mundo de la programación.\n",
    "\n",
    "## ¿Qué es un objeto?\n",
    "\n",
    "Mira a tu alrededor y encontrarás decenas, cientos de objetos. Tu ordenador, es un objeto. Tú, eres un objeto. Tu llave es un objeto. Tu mascota también es un objeto.\n",
    "\n",
    "Describir un objeto, es simplemente mencionar sus cualidades. Las cualidades son adjetivos.\n",
    "\n",
    "Algunos ejemplos:\n",
    "\n",
    "* Atributo color:   El objeto es verde\n",
    "* Atributo tamaño:  El objeto es grande\n",
    "* Atributo aspecto: El objeto es feo\n",
    "\n",
    "## Los objetos tienen capacidad de hacer cosas\n",
    "\n",
    "Los objetos tiene la capacidad de realizar acciones. Las acciones, son verbos. Es decir, que para conocer las capacidades de un objeto, debes preguntarte ¿Qué puede hacer el objeto? y la respuesta a esta pregunta, estará dada por todas aquellas que comiencen por la frase “el objeto puede” seguida de un verbo en infinitivo.\n",
    "\n",
    "Algunos ejemplos:\n",
    "\n",
    "* El objeto puede flotar\n",
    "* El objeto puede saltar"
   ],
   "cell_type": "markdown",
   "metadata": {}
  },
  {
   "source": [
    "## Programación orientada a objetos\n",
    "\n",
    "La Programación Orientada a Objetos (POO u OOP por sus siglas en inglés), es un paradigma de programación.\n",
    "\n",
    "Paradigma: teoría cuyo núcleo central suministra la base y modelo para resolver problemas\n",
    "\n",
    "Cómo tal, nos enseña un método -probado y estudiado- el cual se basa en las interacciones de objetos (todo lo descrito en el título anterior, Pensar en objetos) para resolver las necesidades de un sistema informático.\n",
    "\n",
    "## Clases\n",
    "Las clases son los modelos sobre los cuáles se construirán nuestros objetos. En Python, una clase se define con la instrucción class seguida de un nombre genérico para el objeto.\n"
   ],
   "cell_type": "markdown",
   "metadata": {}
  },
  {
   "cell_type": "code",
   "execution_count": 1,
   "metadata": {},
   "outputs": [],
   "source": [
    "class Persona:\n",
    "    pass\n",
    "\n",
    "class Animal:\n",
    "    pass\n",
    "\n",
    "class Juguete:\n",
    "    pass\n",
    "\n",
    "class Ciudad:\n",
    "    pass"
   ]
  },
  {
   "cell_type": "code",
   "execution_count": 3,
   "metadata": {},
   "outputs": [],
   "source": [
    "## Propiedades\n",
    "#Las propiedades, son las características intrínsecas del objeto. Éstas, se representan a modo de variables, solo que técnicamente, pasan a denominarse propiedades:\n",
    "\n",
    "class Antena(): \n",
    "    color = \"Azul\" \n",
    "    longitud = \"Largo\" \n",
    "\n",
    "class Pelo(): \n",
    "    color = \"Negro\" \n",
    "    textura = \"Grasoso\" \n",
    "\n",
    "class Ojo(): \n",
    "    forma = \"Ovalada\" \n",
    "    color = \"Cafe\" \n",
    "    tamanio = \"Pequeño\"\n",
    "\n",
    "## Tambien podemos tener objetos dentro de otros objetos\n",
    "class Objeto(): \n",
    "    color = \"\" \n",
    "    tamanio = \"\" \n",
    "    aspecto = \"\" \n",
    "    antenas = Antena() # propiedad compuesta por el objeto objeto Antena\n",
    "    ojos = Ojo()       # propiedad compuesta por el objeto objeto Ojo\n",
    "    pelos = Pelo()     # propiedad compuesta por el objeto objeto Pelo"
   ]
  },
  {
   "source": [
    "## Metodos\n",
    "Los métodos son funciones, solo que técnicamente se denominan métodos, y representan acciones propias que puede realizar el objeto (y no otro):"
   ],
   "cell_type": "markdown",
   "metadata": {}
  },
  {
   "cell_type": "code",
   "execution_count": 4,
   "metadata": {},
   "outputs": [],
   "source": [
    "class Objeto(): \n",
    "    color = \"verde\" \n",
    "    tamanio = \"grande\" \n",
    "    aspecto = \"feo\" \n",
    "    antenas = Antena() \n",
    "    ojos = Ojo() \n",
    "    pelos = Pelo() \n",
    "\n",
    "    # El primer parámetro de un método, siempre debe ser self.\n",
    "    def flotar(self): \n",
    "        pass"
   ]
  },
  {
   "source": [
    "## Objeto\n",
    "Las clases por sí mismas, no son más que modelos que nos servirán para crear objetos en concreto. Podemos decir que una clase, es el razonamiento abstracto de un objeto, mientras que el objeto, es su materialización. A la acción de crear objetos, se la denomina instanciar una clase y dicha instancia, consiste en asignar la clase, como valor a una variable:"
   ],
   "cell_type": "markdown",
   "metadata": {}
  },
  {
   "cell_type": "code",
   "execution_count": 5,
   "metadata": {},
   "outputs": [
    {
     "output_type": "stream",
     "name": "stdout",
     "text": [
      "verde\ngrande\nfeo\nrosa\n"
     ]
    }
   ],
   "source": [
    "class Objeto(): \n",
    "    color = \"verde\" \n",
    "    tamanio = \"grande\" \n",
    "    aspecto = \"feo\" \n",
    "    antenas = Antena() \n",
    "    ojos = Ojo() \n",
    "    pelos = Pelo() \n",
    "\n",
    "    def flotar(self): \n",
    "        print(\"Estoy flotando\")\n",
    "\n",
    "et = Objeto() \n",
    "print (et.color)\n",
    "print (et.tamanio)\n",
    "print (et.aspecto)\n",
    "et.color = \"rosa\" \n",
    "print (et.color)"
   ]
  },
  {
   "source": [
    "## Herencia\n",
    "Como comentamos en el título anterior, algunos objetos comparten las mismas propiedades y métodos que otro objeto, y además agregan nuevas propiedades y métodos. A esto se lo denomina herencia: una clase que hereda de otra. Vale aclarar, que en Python, cuando una clase no hereda de ninguna otra, debe hacerse heredar de object, que es la clase principal de Python, que define un objeto."
   ],
   "cell_type": "markdown",
   "metadata": {}
  },
  {
   "cell_type": "code",
   "execution_count": 21,
   "metadata": {},
   "outputs": [
    {
     "output_type": "stream",
     "name": "stdout",
     "text": [
      "Soy un animal y estoy caminando\nanimal\nSoy un ave y estoy caminando\nSoy un ave y estoy volando\nMuy largo\n"
     ]
    }
   ],
   "source": [
    "class Animal(object):\n",
    "    tamano=\"\"\n",
    "    color=\"\"\n",
    "    tipo=\"animal\"\n",
    "    def caminar(self):\n",
    "        print(\"Soy un \"+ self.tipo + \" y estoy caminando\")\n",
    "\n",
    "class Ave(Animal):\n",
    "    tipo=\"ave\"\n",
    "    # Se agrega una propiedad nueva y se heredan todas las propiedades del animal\n",
    "    tamano_pico=\"Muy largo\"\n",
    "    def volar(self):\n",
    "         print(\"Soy un \"+ self.tipo + \" y estoy volando\")\n",
    "\n",
    "animal = Animal()\n",
    "animal.caminar()\n",
    "\n",
    "## Se establece el valor de la propiedad tamano\n",
    "animal.tamano = \"Grande\"\n",
    "\n",
    "# Imprime la propiedad tipo\n",
    "print(animal.tipo)\n",
    "\n",
    "ave = Ave()\n",
    "# Ejecuta el metodo caminar\n",
    "ave.caminar()\n",
    "# Ejecuta el metodo volar\n",
    "ave.volar()\n",
    "# Imprime la propiedad tamano_pico\n",
    "print(ave.tamano_pico)\n"
   ]
  },
  {
   "source": [
    "## Constructor de la clase\n"
   ],
   "cell_type": "markdown",
   "metadata": {}
  },
  {
   "cell_type": "code",
   "execution_count": 34,
   "metadata": {},
   "outputs": [
    {
     "output_type": "stream",
     "name": "stdout",
     "text": [
      "El animal es de tipo Terrestre, y es de tamaño Grande\nEl animal es de tipo Acuatico, y es de tamaño Pequeño\n"
     ]
    }
   ],
   "source": [
    "class Animal(object): \n",
    "    tipo=\"\"\n",
    "    tamano=\"\"\n",
    "\n",
    "    # Constructor que recibe por parametro los valores para cada propiedad\n",
    "    # Si no se establecen los valores de cada propiedad los pone por defecto. Ejemplo: Tipo = Terrestre\n",
    "    def __init__(self,tipo=\"Terrestre\",tamano=\"Grande\"): \n",
    "        self.tipo = tipo\n",
    "        self.tamano = tamano\n",
    "    \n",
    "    # Funcion especial que imprime los valores del objeto con el formato que querramos\n",
    "    def __str__(self):\n",
    "        return \"El animal es de tipo \" + self.tipo + \", y es de tamaño \" + self.tamano\n",
    " \n",
    "animal1 = Animal()\n",
    "animal2 = Animal(\"Acuatico\",\"Pequeño\")\n",
    "\n",
    "print(animal1)\n",
    "print(animal2)"
   ]
  },
  {
   "cell_type": "code",
   "execution_count": null,
   "metadata": {},
   "outputs": [],
   "source": []
  }
 ]
}